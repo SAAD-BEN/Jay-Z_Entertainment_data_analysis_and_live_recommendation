{
 "cells": [
  {
   "cell_type": "code",
   "execution_count": 4,
   "metadata": {},
   "outputs": [
    {
     "name": "stdout",
     "output_type": "stream",
     "text": [
      "Success! Response JSON: [{'movie': {'genres': ['Comedy'], 'movieId': '242', 'title': 'Kolya (1996)'}, 'rating': '3', 'timestamp': '881250949', 'userId': '196'}, {'movie': {'genres': ['Action', 'Adventure', 'Comedy', 'Sci-Fi'], 'movieId': '257', 'title': 'Men in Black (1997)'}, 'rating': '2', 'timestamp': '881251577', 'userId': '196'}, {'movie': {'genres': ['Comedy', 'Romance'], 'movieId': '111', 'title': 'Truth About Cats & Dogs, The (1996)'}, 'rating': '4', 'timestamp': '881251793', 'userId': '196'}, {'movie': {'genres': ['Comedy'], 'movieId': '25', 'title': 'Birdcage, The (1996)'}, 'rating': '4', 'timestamp': '881251955', 'userId': '196'}, {'movie': {'genres': ['Comedy', 'Drama'], 'movieId': '382', 'title': 'Adventures of Priscilla, Queen of the Desert, The (1994)'}, 'rating': '4', 'timestamp': '881251843', 'userId': '196'}]\n",
      "Success! Response JSON: [{'movie': {'genres': ['Comedy', 'Romance'], 'movieId': '202', 'title': 'Groundhog Day (1993)'}, 'rating': '3', 'timestamp': '881251728', 'userId': '196'}, {'movie': {'genres': ['Comedy'], 'movieId': '153', 'title': 'Fish Called Wanda, A (1988)'}, 'rating': '5', 'timestamp': '881251820', 'userId': '196'}, {'movie': {'genres': ['Drama', 'Romance', 'War'], 'movieId': '286', 'title': 'English Patient, The (1996)'}, 'rating': '5', 'timestamp': '881250949', 'userId': '196'}, {'movie': {'genres': ['Comedy', 'Romance'], 'movieId': '66', 'title': 'While You Were Sleeping (1995)'}, 'rating': '3', 'timestamp': '881251911', 'userId': '196'}, {'movie': {'genres': ['Comedy'], 'movieId': '845', 'title': 'That Thing You Do! (1996)'}, 'rating': '4', 'timestamp': '881251954', 'userId': '196'}]\n"
     ]
    }
   ],
   "source": [
    "import requests\n",
    "\n",
    "def test_movie_data_endpoint(page, per_page):\n",
    "    url = f'http://127.0.0.1:5000/movie_data?page={page}&per_page={per_page}'\n",
    "    \n",
    "    try:\n",
    "        response = requests.get(url)\n",
    "        if response.status_code == 200:\n",
    "            print(f\"Success! Response JSON: {response.json()}\")\n",
    "        else:\n",
    "            print(f\"Request failed with status code {response.status_code}\")\n",
    "    except requests.RequestException as e:\n",
    "        print(f\"Request failed: {e}\")\n",
    "\n",
    "# Test the endpoint with different page and per_page values\n",
    "test_movie_data_endpoint(page=1, per_page=5)\n",
    "test_movie_data_endpoint(page=2, per_page=5)"
   ]
  }
 ],
 "metadata": {
  "kernelspec": {
   "display_name": "myenv",
   "language": "python",
   "name": "python3"
  },
  "language_info": {
   "codemirror_mode": {
    "name": "ipython",
    "version": 3
   },
   "file_extension": ".py",
   "mimetype": "text/x-python",
   "name": "python",
   "nbconvert_exporter": "python",
   "pygments_lexer": "ipython3",
   "version": "3.11.3"
  }
 },
 "nbformat": 4,
 "nbformat_minor": 2
}
