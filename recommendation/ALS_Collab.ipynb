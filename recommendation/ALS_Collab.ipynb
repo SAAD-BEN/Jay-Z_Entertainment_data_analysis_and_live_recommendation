{
  "nbformat": 4,
  "nbformat_minor": 0,
  "metadata": {
    "colab": {
      "provenance": []
    },
    "kernelspec": {
      "name": "python3",
      "display_name": "Python 3"
    },
    "language_info": {
      "name": "python"
    }
  },
  "cells": [
    {
      "cell_type": "code",
      "execution_count": 1,
      "metadata": {
        "colab": {
          "base_uri": "https://localhost:8080/"
        },
        "id": "L02ESKTU5fnE",
        "outputId": "a9a342da-2305-41e5-99a4-6c82e7e6fd85"
      },
      "outputs": [
        {
          "output_type": "stream",
          "name": "stdout",
          "text": [
            "Collecting findspark\n",
            "  Downloading findspark-2.0.1-py2.py3-none-any.whl (4.4 kB)\n",
            "Requirement already satisfied: pandas in /usr/local/lib/python3.10/dist-packages (1.5.3)\n",
            "Collecting pyspark\n",
            "  Downloading pyspark-3.5.0.tar.gz (316.9 MB)\n",
            "\u001b[2K     \u001b[90m━━━━━━━━━━━━━━━━━━━━━━━━━━━━━━━━━━━━━━━━\u001b[0m \u001b[32m316.9/316.9 MB\u001b[0m \u001b[31m4.5 MB/s\u001b[0m eta \u001b[36m0:00:00\u001b[0m\n",
            "\u001b[?25h  Preparing metadata (setup.py) ... \u001b[?25l\u001b[?25hdone\n",
            "Requirement already satisfied: python-dateutil>=2.8.1 in /usr/local/lib/python3.10/dist-packages (from pandas) (2.8.2)\n",
            "Requirement already satisfied: pytz>=2020.1 in /usr/local/lib/python3.10/dist-packages (from pandas) (2023.3.post1)\n",
            "Requirement already satisfied: numpy>=1.21.0 in /usr/local/lib/python3.10/dist-packages (from pandas) (1.23.5)\n",
            "Requirement already satisfied: py4j==0.10.9.7 in /usr/local/lib/python3.10/dist-packages (from pyspark) (0.10.9.7)\n",
            "Requirement already satisfied: six>=1.5 in /usr/local/lib/python3.10/dist-packages (from python-dateutil>=2.8.1->pandas) (1.16.0)\n",
            "Building wheels for collected packages: pyspark\n",
            "  Building wheel for pyspark (setup.py) ... \u001b[?25l\u001b[?25hdone\n",
            "  Created wheel for pyspark: filename=pyspark-3.5.0-py2.py3-none-any.whl size=317425345 sha256=aa5f236a2202e1a698fbeaee740923d07e341ba9a01a31fbc8739099e35c1ede\n",
            "  Stored in directory: /root/.cache/pip/wheels/41/4e/10/c2cf2467f71c678cfc8a6b9ac9241e5e44a01940da8fbb17fc\n",
            "Successfully built pyspark\n",
            "Installing collected packages: findspark, pyspark\n",
            "Successfully installed findspark-2.0.1 pyspark-3.5.0\n"
          ]
        }
      ],
      "source": [
        "pip install findspark pandas pyspark"
      ]
    },
    {
      "cell_type": "code",
      "source": [
        "from pyspark.sql import SparkSession\n",
        "from pyspark.sql.types import StructType, StructField, IntegerType, FloatType\n",
        "\n",
        "# Create a Spark session\n",
        "spark = SparkSession.builder.appName(\"MovieRatings\").getOrCreate()\n",
        "\n",
        "def get_rating_data():\n",
        "    schema = StructType([\n",
        "        StructField(\"userId\", IntegerType(), True),\n",
        "        StructField(\"movieId\", IntegerType(), True),\n",
        "        StructField(\"rating\", FloatType(), True),\n",
        "        StructField(\"timestamp\", IntegerType(), True)\n",
        "    ])\n",
        "    data = spark.read.csv('u.data', sep='\\t', schema=schema, header=False)\n",
        "    return data"
      ],
      "metadata": {
        "id": "T33lvVmd85mZ"
      },
      "execution_count": 2,
      "outputs": []
    },
    {
      "cell_type": "code",
      "source": [
        "from pyspark.ml.evaluation import RegressionEvaluator\n",
        "from pyspark.ml.recommendation import ALS\n",
        "from pyspark.ml.tuning import TrainValidationSplit, ParamGridBuilder\n",
        "\n",
        "# Load the data\n",
        "data = get_rating_data()\n",
        "\n",
        "# Create a smaller subset for demonstration (you can skip this if you want to use the entire dataset)\n",
        "data = data.limit(1000)\n",
        "\n",
        "# Split the data into training and testing sets\n",
        "(training, test) = data.randomSplit([0.8, 0.2], seed=42)\n",
        "\n",
        "# Build the ALS model\n",
        "als = ALS(userCol=\"userId\", itemCol=\"movieId\", ratingCol=\"rating\", coldStartStrategy=\"drop\")\n",
        "\n",
        "# Define a parameter grid for hyperparameter tuning\n",
        "param_grid = ParamGridBuilder() \\\n",
        "    .addGrid(als.rank, [10, 20, 30]) \\\n",
        "    .addGrid(als.maxIter, [5, 10, 15]) \\\n",
        "    .addGrid(als.regParam, [0.01, 0.1, 1.0]) \\\n",
        "    .build()\n",
        "\n",
        "# Define an evaluator\n",
        "evaluator = RegressionEvaluator(metricName=\"rmse\", labelCol=\"rating\", predictionCol=\"prediction\")\n",
        "\n",
        "# Use TrainValidationSplit to choose the best combination of parameters\n",
        "tvs = TrainValidationSplit(estimator=als,\n",
        "                           estimatorParamMaps=param_grid,\n",
        "                           evaluator=evaluator,\n",
        "                           trainRatio=0.8)\n",
        "\n",
        "# Train the model\n",
        "model = tvs.fit(training)\n",
        "\n",
        "# Make predictions on the test set\n",
        "predictions = model.transform(test)\n",
        "\n",
        "# Evaluate the model\n",
        "rmse = evaluator.evaluate(predictions)\n",
        "print(\"Root Mean Squared Error (RMSE) on test data =\", rmse)"
      ],
      "metadata": {
        "colab": {
          "base_uri": "https://localhost:8080/"
        },
        "id": "ElW1lhFW85ow",
        "outputId": "b0040d81-a2b0-4edb-b760-84c95b730268"
      },
      "execution_count": 3,
      "outputs": [
        {
          "output_type": "stream",
          "name": "stdout",
          "text": [
            "Root Mean Squared Error (RMSE) on test data = 2.4760566242459876\n"
          ]
        }
      ]
    },
    {
      "cell_type": "code",
      "source": [
        "import os\n",
        "print(os.getcwd())"
      ],
      "metadata": {
        "colab": {
          "base_uri": "https://localhost:8080/"
        },
        "id": "cU4C3rR79jMr",
        "outputId": "81c87ad7-b349-4241-9392-f8b86de8abd4"
      },
      "execution_count": 4,
      "outputs": [
        {
          "output_type": "stream",
          "name": "stdout",
          "text": [
            "/content\n"
          ]
        }
      ]
    },
    {
      "cell_type": "code",
      "source": [
        "model_path = \"/content/models\"\n",
        "model.save(model_path)"
      ],
      "metadata": {
        "id": "NYcGrHos9L1V"
      },
      "execution_count": 5,
      "outputs": []
    },
    {
      "cell_type": "code",
      "source": [
        "from google.colab import files\n",
        "\n",
        "# Zip the model directory\n",
        "!zip -r my_saved_model.zip {model_path}\n",
        "\n",
        "# Download the zip file\n",
        "files.download(\"my_saved_model.zip\")\n"
      ],
      "metadata": {
        "colab": {
          "base_uri": "https://localhost:8080/",
          "height": 1000
        },
        "id": "ltzjxOdb-Bc7",
        "outputId": "8bc510cb-eec8-454b-a3c7-774bcf058cce"
      },
      "execution_count": 6,
      "outputs": [
        {
          "output_type": "stream",
          "name": "stdout",
          "text": [
            "  adding: content/models/ (stored 0%)\n",
            "  adding: content/models/estimator/ (stored 0%)\n",
            "  adding: content/models/estimator/metadata/ (stored 0%)\n",
            "  adding: content/models/estimator/metadata/._SUCCESS.crc (stored 0%)\n",
            "  adding: content/models/estimator/metadata/_SUCCESS (stored 0%)\n",
            "  adding: content/models/estimator/metadata/part-00000 (deflated 42%)\n",
            "  adding: content/models/estimator/metadata/.part-00000.crc (stored 0%)\n",
            "  adding: content/models/evaluator/ (stored 0%)\n",
            "  adding: content/models/evaluator/metadata/ (stored 0%)\n",
            "  adding: content/models/evaluator/metadata/._SUCCESS.crc (stored 0%)\n",
            "  adding: content/models/evaluator/metadata/_SUCCESS (stored 0%)\n",
            "  adding: content/models/evaluator/metadata/part-00000 (deflated 42%)\n",
            "  adding: content/models/evaluator/metadata/.part-00000.crc (stored 0%)\n",
            "  adding: content/models/metadata/ (stored 0%)\n",
            "  adding: content/models/metadata/._SUCCESS.crc (stored 0%)\n",
            "  adding: content/models/metadata/_SUCCESS (stored 0%)\n",
            "  adding: content/models/metadata/part-00000 (deflated 90%)\n",
            "  adding: content/models/metadata/.part-00000.crc (stored 0%)\n",
            "  adding: content/models/bestModel/ (stored 0%)\n",
            "  adding: content/models/bestModel/metadata/ (stored 0%)\n",
            "  adding: content/models/bestModel/metadata/._SUCCESS.crc (stored 0%)\n",
            "  adding: content/models/bestModel/metadata/_SUCCESS (stored 0%)\n",
            "  adding: content/models/bestModel/metadata/part-00000 (deflated 38%)\n",
            "  adding: content/models/bestModel/metadata/.part-00000.crc (stored 0%)\n",
            "  adding: content/models/bestModel/itemFactors/ (stored 0%)\n",
            "  adding: content/models/bestModel/itemFactors/part-00001-8cf0faaa-0d30-4feb-a8f2-0aaca7702c5d-c000.snappy.parquet (deflated 12%)\n",
            "  adding: content/models/bestModel/itemFactors/part-00006-8cf0faaa-0d30-4feb-a8f2-0aaca7702c5d-c000.snappy.parquet (deflated 12%)\n",
            "  adding: content/models/bestModel/itemFactors/.part-00002-8cf0faaa-0d30-4feb-a8f2-0aaca7702c5d-c000.snappy.parquet.crc (stored 0%)\n",
            "  adding: content/models/bestModel/itemFactors/._SUCCESS.crc (stored 0%)\n",
            "  adding: content/models/bestModel/itemFactors/.part-00001-8cf0faaa-0d30-4feb-a8f2-0aaca7702c5d-c000.snappy.parquet.crc (stored 0%)\n",
            "  adding: content/models/bestModel/itemFactors/.part-00007-8cf0faaa-0d30-4feb-a8f2-0aaca7702c5d-c000.snappy.parquet.crc (stored 0%)\n",
            "  adding: content/models/bestModel/itemFactors/part-00008-8cf0faaa-0d30-4feb-a8f2-0aaca7702c5d-c000.snappy.parquet (deflated 9%)\n",
            "  adding: content/models/bestModel/itemFactors/_SUCCESS (stored 0%)\n",
            "  adding: content/models/bestModel/itemFactors/.part-00005-8cf0faaa-0d30-4feb-a8f2-0aaca7702c5d-c000.snappy.parquet.crc (stored 0%)\n",
            "  adding: content/models/bestModel/itemFactors/part-00005-8cf0faaa-0d30-4feb-a8f2-0aaca7702c5d-c000.snappy.parquet (deflated 9%)\n",
            "  adding: content/models/bestModel/itemFactors/.part-00008-8cf0faaa-0d30-4feb-a8f2-0aaca7702c5d-c000.snappy.parquet.crc (stored 0%)\n",
            "  adding: content/models/bestModel/itemFactors/.part-00000-8cf0faaa-0d30-4feb-a8f2-0aaca7702c5d-c000.snappy.parquet.crc (stored 0%)\n",
            "  adding: content/models/bestModel/itemFactors/.part-00003-8cf0faaa-0d30-4feb-a8f2-0aaca7702c5d-c000.snappy.parquet.crc (stored 0%)\n",
            "  adding: content/models/bestModel/itemFactors/.part-00009-8cf0faaa-0d30-4feb-a8f2-0aaca7702c5d-c000.snappy.parquet.crc (stored 0%)\n",
            "  adding: content/models/bestModel/itemFactors/part-00004-8cf0faaa-0d30-4feb-a8f2-0aaca7702c5d-c000.snappy.parquet (deflated 9%)\n",
            "  adding: content/models/bestModel/itemFactors/part-00003-8cf0faaa-0d30-4feb-a8f2-0aaca7702c5d-c000.snappy.parquet (deflated 9%)\n",
            "  adding: content/models/bestModel/itemFactors/part-00002-8cf0faaa-0d30-4feb-a8f2-0aaca7702c5d-c000.snappy.parquet (deflated 12%)\n",
            "  adding: content/models/bestModel/itemFactors/part-00009-8cf0faaa-0d30-4feb-a8f2-0aaca7702c5d-c000.snappy.parquet (deflated 12%)\n",
            "  adding: content/models/bestModel/itemFactors/.part-00004-8cf0faaa-0d30-4feb-a8f2-0aaca7702c5d-c000.snappy.parquet.crc (stored 0%)\n",
            "  adding: content/models/bestModel/itemFactors/part-00007-8cf0faaa-0d30-4feb-a8f2-0aaca7702c5d-c000.snappy.parquet (deflated 9%)\n",
            "  adding: content/models/bestModel/itemFactors/part-00000-8cf0faaa-0d30-4feb-a8f2-0aaca7702c5d-c000.snappy.parquet (deflated 11%)\n",
            "  adding: content/models/bestModel/itemFactors/.part-00006-8cf0faaa-0d30-4feb-a8f2-0aaca7702c5d-c000.snappy.parquet.crc (stored 0%)\n",
            "  adding: content/models/bestModel/userFactors/ (stored 0%)\n",
            "  adding: content/models/bestModel/userFactors/part-00009-966785d9-c491-4589-8569-ab064123b1e1-c000.snappy.parquet (deflated 10%)\n",
            "  adding: content/models/bestModel/userFactors/.part-00004-966785d9-c491-4589-8569-ab064123b1e1-c000.snappy.parquet.crc (stored 0%)\n",
            "  adding: content/models/bestModel/userFactors/part-00005-966785d9-c491-4589-8569-ab064123b1e1-c000.snappy.parquet (deflated 10%)\n",
            "  adding: content/models/bestModel/userFactors/._SUCCESS.crc (stored 0%)\n",
            "  adding: content/models/bestModel/userFactors/part-00007-966785d9-c491-4589-8569-ab064123b1e1-c000.snappy.parquet (deflated 10%)\n",
            "  adding: content/models/bestModel/userFactors/part-00001-966785d9-c491-4589-8569-ab064123b1e1-c000.snappy.parquet (deflated 10%)\n",
            "  adding: content/models/bestModel/userFactors/_SUCCESS (stored 0%)\n",
            "  adding: content/models/bestModel/userFactors/part-00006-966785d9-c491-4589-8569-ab064123b1e1-c000.snappy.parquet (deflated 10%)\n",
            "  adding: content/models/bestModel/userFactors/.part-00002-966785d9-c491-4589-8569-ab064123b1e1-c000.snappy.parquet.crc (stored 0%)\n",
            "  adding: content/models/bestModel/userFactors/.part-00008-966785d9-c491-4589-8569-ab064123b1e1-c000.snappy.parquet.crc (stored 0%)\n",
            "  adding: content/models/bestModel/userFactors/.part-00006-966785d9-c491-4589-8569-ab064123b1e1-c000.snappy.parquet.crc (stored 0%)\n",
            "  adding: content/models/bestModel/userFactors/.part-00000-966785d9-c491-4589-8569-ab064123b1e1-c000.snappy.parquet.crc (stored 0%)\n",
            "  adding: content/models/bestModel/userFactors/part-00003-966785d9-c491-4589-8569-ab064123b1e1-c000.snappy.parquet (deflated 11%)\n",
            "  adding: content/models/bestModel/userFactors/.part-00007-966785d9-c491-4589-8569-ab064123b1e1-c000.snappy.parquet.crc (stored 0%)\n",
            "  adding: content/models/bestModel/userFactors/part-00000-966785d9-c491-4589-8569-ab064123b1e1-c000.snappy.parquet (deflated 10%)\n",
            "  adding: content/models/bestModel/userFactors/.part-00005-966785d9-c491-4589-8569-ab064123b1e1-c000.snappy.parquet.crc (stored 0%)\n",
            "  adding: content/models/bestModel/userFactors/.part-00001-966785d9-c491-4589-8569-ab064123b1e1-c000.snappy.parquet.crc (stored 0%)\n",
            "  adding: content/models/bestModel/userFactors/.part-00003-966785d9-c491-4589-8569-ab064123b1e1-c000.snappy.parquet.crc (stored 0%)\n",
            "  adding: content/models/bestModel/userFactors/part-00008-966785d9-c491-4589-8569-ab064123b1e1-c000.snappy.parquet (deflated 10%)\n",
            "  adding: content/models/bestModel/userFactors/.part-00009-966785d9-c491-4589-8569-ab064123b1e1-c000.snappy.parquet.crc (stored 0%)\n",
            "  adding: content/models/bestModel/userFactors/part-00002-966785d9-c491-4589-8569-ab064123b1e1-c000.snappy.parquet (deflated 10%)\n",
            "  adding: content/models/bestModel/userFactors/part-00004-966785d9-c491-4589-8569-ab064123b1e1-c000.snappy.parquet (deflated 11%)\n"
          ]
        },
        {
          "output_type": "display_data",
          "data": {
            "text/plain": [
              "<IPython.core.display.Javascript object>"
            ],
            "application/javascript": [
              "\n",
              "    async function download(id, filename, size) {\n",
              "      if (!google.colab.kernel.accessAllowed) {\n",
              "        return;\n",
              "      }\n",
              "      const div = document.createElement('div');\n",
              "      const label = document.createElement('label');\n",
              "      label.textContent = `Downloading \"${filename}\": `;\n",
              "      div.appendChild(label);\n",
              "      const progress = document.createElement('progress');\n",
              "      progress.max = size;\n",
              "      div.appendChild(progress);\n",
              "      document.body.appendChild(div);\n",
              "\n",
              "      const buffers = [];\n",
              "      let downloaded = 0;\n",
              "\n",
              "      const channel = await google.colab.kernel.comms.open(id);\n",
              "      // Send a message to notify the kernel that we're ready.\n",
              "      channel.send({})\n",
              "\n",
              "      for await (const message of channel.messages) {\n",
              "        // Send a message to notify the kernel that we're ready.\n",
              "        channel.send({})\n",
              "        if (message.buffers) {\n",
              "          for (const buffer of message.buffers) {\n",
              "            buffers.push(buffer);\n",
              "            downloaded += buffer.byteLength;\n",
              "            progress.value = downloaded;\n",
              "          }\n",
              "        }\n",
              "      }\n",
              "      const blob = new Blob(buffers, {type: 'application/binary'});\n",
              "      const a = document.createElement('a');\n",
              "      a.href = window.URL.createObjectURL(blob);\n",
              "      a.download = filename;\n",
              "      div.appendChild(a);\n",
              "      a.click();\n",
              "      div.remove();\n",
              "    }\n",
              "  "
            ]
          },
          "metadata": {}
        },
        {
          "output_type": "display_data",
          "data": {
            "text/plain": [
              "<IPython.core.display.Javascript object>"
            ],
            "application/javascript": [
              "download(\"download_d5284aa7-467e-4702-8463-357b0bdf97d8\", \"my_saved_model.zip\", 117776)"
            ]
          },
          "metadata": {}
        }
      ]
    },
    {
      "cell_type": "code",
      "source": [
        "# Assuming you have a trained ALS model named 'model'\n",
        "model_path = \"/content/model\"\n",
        "\n",
        "# Save the model in Parquet format\n",
        "model.write().overwrite().save(model_path)\n"
      ],
      "metadata": {
        "id": "E9sp7h1TBts8"
      },
      "execution_count": 7,
      "outputs": []
    },
    {
      "cell_type": "code",
      "source": [
        "import shutil\n",
        "\n",
        "# Zip the model directory\n",
        "shutil.make_archive(\"/content/model_archive\", 'zip', model_path)"
      ],
      "metadata": {
        "colab": {
          "base_uri": "https://localhost:8080/",
          "height": 36
        },
        "id": "LC9z3OOgCO6N",
        "outputId": "5a5d66d9-b539-45a0-9a60-d7284c7bd58d"
      },
      "execution_count": 8,
      "outputs": [
        {
          "output_type": "execute_result",
          "data": {
            "text/plain": [
              "'/content/model_archive.zip'"
            ],
            "application/vnd.google.colaboratory.intrinsic+json": {
              "type": "string"
            }
          },
          "metadata": {},
          "execution_count": 8
        }
      ]
    },
    {
      "cell_type": "code",
      "source": [
        "from pyspark.ml.evaluation import RegressionEvaluator\n",
        "from pyspark.ml.recommendation import ALS\n",
        "from pyspark.ml.tuning import TrainValidationSplit, ParamGridBuilder\n",
        "\n",
        "# Load the data\n",
        "data = get_rating_data()\n",
        "\n",
        "# Create a smaller subset for demonstration (you can skip this if you want to use the entire dataset)\n",
        "data = data.limit(1000)\n",
        "\n",
        "# Split the data into training and testing sets\n",
        "(training, test) = data.randomSplit([0.8, 0.2], seed=42)\n",
        "\n",
        "# Build the ALS model\n",
        "als = ALS(userCol=\"userId\", itemCol=\"movieId\", ratingCol=\"rating\", coldStartStrategy=\"drop\")\n",
        "\n",
        "# Define a parameter grid for hyperparameter tuning\n",
        "param_grid = ParamGridBuilder() \\\n",
        "    .addGrid(als.rank, [10, 20, 30]) \\\n",
        "    .addGrid(als.maxIter, [5, 10, 15]) \\\n",
        "    .addGrid(als.regParam, [0.01, 0.1, 1.0]) \\\n",
        "    .build()\n",
        "\n",
        "# Define an evaluators\n",
        "evaluator_rmse = RegressionEvaluator(metricName=\"rmse\", labelCol=\"rating\", predictionCol=\"prediction\")\n",
        "evaluator_r2 = RegressionEvaluator(metricName=\"r2\", labelCol=\"rating\", predictionCol=\"prediction\")\n",
        "evaluator_mse = RegressionEvaluator(metricName=\"mse\", labelCol=\"rating\", predictionCol=\"prediction\")\n",
        "evaluator_accuracy = RegressionEvaluator(metricName=\"accuracy\", labelCol=\"rating\", predictionCol=\"prediction\")\n",
        "\n",
        "# Use TrainValidationSplit to choose the best combination of parameters\n",
        "tvs = TrainValidationSplit(estimator=als,\n",
        "                           estimatorParamMaps=param_grid,\n",
        "                           evaluator=evaluator,\n",
        "                           trainRatio=0.8)\n",
        "\n",
        "# Train the model\n",
        "model = tvs.fit(training)\n",
        "\n",
        "# Make predictions on the test set\n",
        "predictions = model.transform(test)\n"
      ],
      "metadata": {
        "id": "Lk2H2pk0EBzF"
      },
      "execution_count": null,
      "outputs": []
    },
    {
      "cell_type": "code",
      "source": [
        "# Evaluate the model\n",
        "rmse = evaluator_rmse.evaluate(predictions)\n",
        "r2 = evaluator_r2.evaluate(predictions)\n",
        "mse = evaluator_mse.evaluate(predictions)\n",
        "\n",
        "print(\"Root Mean Squared Error (RMSE) on test data =\", rmse)\n",
        "print(\"R Squared (R2) on test data =\", r2)\n",
        "print(\"Mean Squared Error (MSE) on test data =\", mse)"
      ],
      "metadata": {
        "colab": {
          "base_uri": "https://localhost:8080/"
        },
        "id": "i_TxW4chEozT",
        "outputId": "c626266e-bee9-40d4-ed4d-f4ed93916387"
      },
      "execution_count": 10,
      "outputs": [
        {
          "output_type": "stream",
          "name": "stdout",
          "text": [
            "Root Mean Squared Error (RMSE) on test data = 2.4760566242459876\n",
            "R Squared (R2) on test data = -4.119053385468169\n",
            "Mean Squared Error (MSE) on test data = 6.130856406472435\n"
          ]
        }
      ]
    }
  ]
}