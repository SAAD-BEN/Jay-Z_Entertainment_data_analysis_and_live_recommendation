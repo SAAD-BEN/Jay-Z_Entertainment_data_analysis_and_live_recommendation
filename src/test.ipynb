{
 "cells": [
  {
   "cell_type": "code",
   "execution_count": 1,
   "metadata": {},
   "outputs": [],
   "source": [
    "from elasticsearch import Elasticsearch\n",
    "from dotenv import load_dotenv\n",
    "import os\n",
    "\n",
    "load_dotenv()\n",
    "\n",
    "client = Elasticsearch(\n",
    "  os.getenv(\"ELASTIC_URL\"),\n",
    "  api_key=(os.getenv(\"ELASTIC_API_KEY\"))\n",
    ")\n"
   ]
  },
  {
   "cell_type": "code",
   "execution_count": 4,
   "metadata": {},
   "outputs": [
    {
     "name": "stdout",
     "output_type": "stream",
     "text": [
      "Index 'jayzz_movie_index' deleted successfully!\n",
      "Index 'jayzz_review_index' deleted successfully!\n",
      "Index 'jayzz_user_index' deleted successfully!\n"
     ]
    }
   ],
   "source": [
    "def delete_index(elastic_client: Elasticsearch, index_name: str):\n",
    "    try:\n",
    "        # Use Elasticsearch.indices.delete method\n",
    "        response = elastic_client.indices.delete(index=index_name)\n",
    "        \n",
    "        if response and response.get(\"acknowledged\", False):\n",
    "            print(f\"Index '{index_name}' deleted successfully!\")\n",
    "            return True\n",
    "        else:\n",
    "            print(f\"Failed to delete index '{index_name}'. Response: {response}\")\n",
    "            return False\n",
    "    except Exception as e:\n",
    "        print(f\"Error deleting index '{index_name}': {str(e)}\")\n",
    "        return False\n",
    "    \n",
    "mappings_folder = os.getenv(\"BASE_PROJECT_PATH\") + \"src/mappings/\"\n",
    "# get files that end with .json\n",
    "mapping_files = [f for f in os.listdir(mappings_folder) if f.endswith(\".json\")]\n",
    "# loop through the files\n",
    "for mapping_file in mapping_files:\n",
    "    # get the index name\n",
    "    index_name = mapping_file.split(\".\")[0]\n",
    "    # create the index\n",
    "    delete_index(client, index_name)"
   ]
  },
  {
   "cell_type": "code",
   "execution_count": 33,
   "metadata": {},
   "outputs": [],
   "source": [
    "def find_movie_by_id( index_name: str, movie_id: str):\n",
    "    try:\n",
    "        elastic_client = Elasticsearch(\n",
    "            os.getenv(\"ELASTIC_URL\"),\n",
    "            api_key=(os.getenv(\"ELASTIC_API_KEY\"))\n",
    "        )\n",
    "        # Use Elasticsearch.search method to find the movie by movieId\n",
    "        response = elastic_client.search(\n",
    "            index=index_name,\n",
    "            body={\n",
    "                \"query\": {\n",
    "                    \"match\": {\n",
    "                        \"movieId\": movie_id\n",
    "                    }\n",
    "                }\n",
    "            }\n",
    "        )\n",
    "\n",
    "        # Check if there are hits in the response\n",
    "        hits = response[\"hits\"][\"hits\"]\n",
    "        \n",
    "        # close the connection\n",
    "        elastic_client.close()\n",
    "        \n",
    "        if hits:\n",
    "            # Return the first hit (assuming movieId is unique)\n",
    "            return hits[0][\"_source\"]\n",
    "        else:\n",
    "            return None\n",
    "    except Exception as e:\n",
    "        print(f\"Error finding movie by movieId '{movie_id}': {str(e)}\")\n",
    "        return None\n",
    "    \n"
   ]
  },
  {
   "cell_type": "code",
   "execution_count": 34,
   "metadata": {},
   "outputs": [
    {
     "data": {
      "text/plain": [
       "0.0"
      ]
     },
     "execution_count": 34,
     "metadata": {},
     "output_type": "execute_result"
    }
   ],
   "source": [
    "find_movie_avg_rating_by_id(\"jayzz_movie_index\", \"8\")\n"
   ]
  },
  {
   "cell_type": "code",
   "execution_count": 3,
   "metadata": {},
   "outputs": [
    {
     "name": "stderr",
     "output_type": "stream",
     "text": [
      "C:\\Users\\YouCode\\AppData\\Local\\Temp\\ipykernel_4704\\500940804.py:12: DeprecationWarning: Passing transport options in the API method is deprecated. Use 'Elasticsearch.options()' instead.\n",
      "  client.indices.create(\n"
     ]
    },
    {
     "name": "stdout",
     "output_type": "stream",
     "text": [
      "Created index jayzz_movie_index successfully!\n",
      "Created index jayzz_review_index successfully!\n",
      "Created index jayzz_user_index successfully!\n"
     ]
    }
   ],
   "source": [
    "from elasticsearch import Elasticsearch\n",
    "from typing import Dict\n",
    "import json\n",
    "from dotenv import load_dotenv\n",
    "import os\n",
    "\n",
    "load_dotenv()\n",
    "\n",
    "def create_index(client: Elasticsearch, index_name: str, mapping: Dict):\n",
    "    try:\n",
    "        # Use Elasticsearch.indices.create method\n",
    "        client.indices.create(\n",
    "            index=index_name,\n",
    "            body=mapping,\n",
    "            ignore=400  # Ignore 400 already exists code\n",
    "        )\n",
    "        print(f\"Created index {index_name} successfully!\")\n",
    "        return True\n",
    "    except Exception as e:\n",
    "        print(f\"Error creating index {index_name}: {str(e)}\")\n",
    "        return False\n",
    "    \n",
    "mappings_folder = os.getenv(\"BASE_PROJECT_PATH\") + \"src/mappings/\"\n",
    "# get files that end with .json\n",
    "mapping_files = [f for f in os.listdir(mappings_folder) if f.endswith(\".json\")]\n",
    "# loop through the files\n",
    "for mapping_file in mapping_files:\n",
    "    # get the index name\n",
    "    index_name = mapping_file.split(\".\")[0]\n",
    "    # open the file and load the json\n",
    "    with open(mappings_folder + mapping_file) as f:\n",
    "        mapping = json.load(f)\n",
    "    # create the index\n",
    "    create_index(client, index_name, mapping)\n"
   ]
  },
  {
   "cell_type": "code",
   "execution_count": null,
   "metadata": {},
   "outputs": [
    {
     "name": "stdout",
     "output_type": "stream",
     "text": [
      "Created index nested_movies_reviews successfully!\n"
     ]
    },
    {
     "data": {
      "text/plain": [
       "True"
      ]
     },
     "execution_count": 8,
     "metadata": {},
     "output_type": "execute_result"
    }
   ],
   "source": [
    "\n",
    "create_index(client, 'nested_movies_reviews', nested_review_index_mapping)\n"
   ]
  },
  {
   "cell_type": "code",
   "execution_count": 4,
   "metadata": {},
   "outputs": [
    {
     "name": "stdout",
     "output_type": "stream",
     "text": [
      "+-----+------------+\n",
      "|Seqno|Name        |\n",
      "+-----+------------+\n",
      "|1    |john jones  |\n",
      "|2    |tracey smith|\n",
      "|3    |amy sanders |\n",
      "+-----+------------+\n",
      "\n"
     ]
    }
   ],
   "source": [
    "import findspark\n",
    "findspark.init()\n",
    "from pyspark.sql import SparkSession\n",
    "\n",
    "spark = SparkSession.builder.appName('SparkByExamples.com').getOrCreate()\n",
    "\n",
    "columns = [\"Seqno\",\"Name\"]\n",
    "data = [(\"1\", \"john jones\"),\n",
    "    (\"2\", \"tracey smith\"),\n",
    "    (\"3\", \"amy sanders\")]\n",
    "\n",
    "df = spark.createDataFrame(data=data,schema=columns)\n",
    "\n",
    "df.show(truncate=False)"
   ]
  },
  {
   "cell_type": "code",
   "execution_count": 5,
   "metadata": {},
   "outputs": [],
   "source": [
    "def convertCase(str):\n",
    "    resStr=\"\"\n",
    "    arr = str.split(\" \")\n",
    "    for x in arr:\n",
    "       resStr= resStr + x[0:1].upper() + x[1:len(x)] + \" \"\n",
    "    return resStr "
   ]
  },
  {
   "cell_type": "code",
   "execution_count": 6,
   "metadata": {},
   "outputs": [],
   "source": [
    "from pyspark.sql.functions import col, udf\n",
    "from pyspark.sql.types import StringType\n",
    "\n",
    "# Converting function to UDF \n",
    "convertUDF = udf(lambda z: convertCase(z),StringType())"
   ]
  },
  {
   "cell_type": "code",
   "execution_count": 7,
   "metadata": {},
   "outputs": [],
   "source": [
    "# StringType() is by default hence not required \n",
    "convertUDF = udf(lambda z: convertCase(z)) "
   ]
  },
  {
   "cell_type": "code",
   "execution_count": 8,
   "metadata": {},
   "outputs": [
    {
     "name": "stdout",
     "output_type": "stream",
     "text": [
      "+-----+-------------+\n",
      "|Seqno|Name         |\n",
      "+-----+-------------+\n",
      "|1    |John Jones   |\n",
      "|2    |Tracey Smith |\n",
      "|3    |Amy Sanders  |\n",
      "+-----+-------------+\n",
      "\n"
     ]
    }
   ],
   "source": [
    "df.select(col(\"Seqno\"), \\\n",
    "    convertUDF(col(\"Name\")).alias(\"Name\") ) \\\n",
    "   .show(truncate=False)"
   ]
  },
  {
   "cell_type": "code",
   "execution_count": 12,
   "metadata": {},
   "outputs": [
    {
     "ename": "KeyboardInterrupt",
     "evalue": "",
     "output_type": "error",
     "traceback": [
      "\u001b[1;31m---------------------------------------------------------------------------\u001b[0m",
      "\u001b[1;31mKeyboardInterrupt\u001b[0m                         Traceback (most recent call last)",
      "\u001b[1;32mc:\\Users\\YouCode\\Desktop\\saad\\2023-12-04_evaluation_JayZZ_movies_recommendation_spark_EK\\Jay-Z_Entertainment_data_analysis_and_live_recommendation\\src\\test.ipynb Cell 12\u001b[0m line \u001b[0;36m4\n\u001b[0;32m     <a href='vscode-notebook-cell:/c%3A/Users/YouCode/Desktop/saad/2023-12-04_evaluation_JayZZ_movies_recommendation_spark_EK/Jay-Z_Entertainment_data_analysis_and_live_recommendation/src/test.ipynb#X14sZmlsZQ%3D%3D?line=37'>38</a>\u001b[0m topic_name_to_recreate \u001b[39m=\u001b[39m \u001b[39m'\u001b[39m\u001b[39mreviews\u001b[39m\u001b[39m'\u001b[39m\n\u001b[0;32m     <a href='vscode-notebook-cell:/c%3A/Users/YouCode/Desktop/saad/2023-12-04_evaluation_JayZZ_movies_recommendation_spark_EK/Jay-Z_Entertainment_data_analysis_and_live_recommendation/src/test.ipynb#X14sZmlsZQ%3D%3D?line=38'>39</a>\u001b[0m bootstrap_servers_to_use \u001b[39m=\u001b[39m \u001b[39m'\u001b[39m\u001b[39mlocalhost:9092\u001b[39m\u001b[39m'\u001b[39m  \u001b[39m# Replace with your Kafka broker's address\u001b[39;00m\n\u001b[1;32m---> <a href='vscode-notebook-cell:/c%3A/Users/YouCode/Desktop/saad/2023-12-04_evaluation_JayZZ_movies_recommendation_spark_EK/Jay-Z_Entertainment_data_analysis_and_live_recommendation/src/test.ipynb#X14sZmlsZQ%3D%3D?line=39'>40</a>\u001b[0m recreate_kafka_topic(topic_name_to_recreate, bootstrap_servers_to_use)\n",
      "\u001b[1;32mc:\\Users\\YouCode\\Desktop\\saad\\2023-12-04_evaluation_JayZZ_movies_recommendation_spark_EK\\Jay-Z_Entertainment_data_analysis_and_live_recommendation\\src\\test.ipynb Cell 12\u001b[0m line \u001b[0;36m1\n\u001b[0;32m     <a href='vscode-notebook-cell:/c%3A/Users/YouCode/Desktop/saad/2023-12-04_evaluation_JayZZ_movies_recommendation_spark_EK/Jay-Z_Entertainment_data_analysis_and_live_recommendation/src/test.ipynb#X14sZmlsZQ%3D%3D?line=13'>14</a>\u001b[0m \u001b[39mfor\u001b[39;00m topic, future \u001b[39min\u001b[39;00m topic_deletion_futures\u001b[39m.\u001b[39mitems():\n\u001b[0;32m     <a href='vscode-notebook-cell:/c%3A/Users/YouCode/Desktop/saad/2023-12-04_evaluation_JayZZ_movies_recommendation_spark_EK/Jay-Z_Entertainment_data_analysis_and_live_recommendation/src/test.ipynb#X14sZmlsZQ%3D%3D?line=14'>15</a>\u001b[0m     \u001b[39mtry\u001b[39;00m:\n\u001b[1;32m---> <a href='vscode-notebook-cell:/c%3A/Users/YouCode/Desktop/saad/2023-12-04_evaluation_JayZZ_movies_recommendation_spark_EK/Jay-Z_Entertainment_data_analysis_and_live_recommendation/src/test.ipynb#X14sZmlsZQ%3D%3D?line=15'>16</a>\u001b[0m         future\u001b[39m.\u001b[39;49mresult()\n\u001b[0;32m     <a href='vscode-notebook-cell:/c%3A/Users/YouCode/Desktop/saad/2023-12-04_evaluation_JayZZ_movies_recommendation_spark_EK/Jay-Z_Entertainment_data_analysis_and_live_recommendation/src/test.ipynb#X14sZmlsZQ%3D%3D?line=16'>17</a>\u001b[0m         \u001b[39mprint\u001b[39m(\u001b[39mf\u001b[39m\u001b[39m\"\u001b[39m\u001b[39mTopic \u001b[39m\u001b[39m'\u001b[39m\u001b[39m{\u001b[39;00mtopic\u001b[39m}\u001b[39;00m\u001b[39m'\u001b[39m\u001b[39m deleted successfully.\u001b[39m\u001b[39m\"\u001b[39m)\n\u001b[0;32m     <a href='vscode-notebook-cell:/c%3A/Users/YouCode/Desktop/saad/2023-12-04_evaluation_JayZZ_movies_recommendation_spark_EK/Jay-Z_Entertainment_data_analysis_and_live_recommendation/src/test.ipynb#X14sZmlsZQ%3D%3D?line=17'>18</a>\u001b[0m     \u001b[39mexcept\u001b[39;00m \u001b[39mException\u001b[39;00m \u001b[39mas\u001b[39;00m e:\n",
      "File \u001b[1;32mc:\\Users\\YouCode\\AppData\\Local\\Programs\\Python\\Python310\\lib\\concurrent\\futures\\_base.py:440\u001b[0m, in \u001b[0;36mFuture.result\u001b[1;34m(self, timeout)\u001b[0m\n\u001b[0;32m    437\u001b[0m \u001b[39melif\u001b[39;00m \u001b[39mself\u001b[39m\u001b[39m.\u001b[39m_state \u001b[39m==\u001b[39m FINISHED:\n\u001b[0;32m    438\u001b[0m     \u001b[39mreturn\u001b[39;00m \u001b[39mself\u001b[39m\u001b[39m.\u001b[39m__get_result()\n\u001b[1;32m--> 440\u001b[0m \u001b[39mself\u001b[39;49m\u001b[39m.\u001b[39;49m_condition\u001b[39m.\u001b[39;49mwait(timeout)\n\u001b[0;32m    442\u001b[0m \u001b[39mif\u001b[39;00m \u001b[39mself\u001b[39m\u001b[39m.\u001b[39m_state \u001b[39min\u001b[39;00m [CANCELLED, CANCELLED_AND_NOTIFIED]:\n\u001b[0;32m    443\u001b[0m     \u001b[39mraise\u001b[39;00m CancelledError()\n",
      "File \u001b[1;32mc:\\Users\\YouCode\\AppData\\Local\\Programs\\Python\\Python310\\lib\\threading.py:320\u001b[0m, in \u001b[0;36mCondition.wait\u001b[1;34m(self, timeout)\u001b[0m\n\u001b[0;32m    318\u001b[0m \u001b[39mtry\u001b[39;00m:    \u001b[39m# restore state no matter what (e.g., KeyboardInterrupt)\u001b[39;00m\n\u001b[0;32m    319\u001b[0m     \u001b[39mif\u001b[39;00m timeout \u001b[39mis\u001b[39;00m \u001b[39mNone\u001b[39;00m:\n\u001b[1;32m--> 320\u001b[0m         waiter\u001b[39m.\u001b[39;49macquire()\n\u001b[0;32m    321\u001b[0m         gotit \u001b[39m=\u001b[39m \u001b[39mTrue\u001b[39;00m\n\u001b[0;32m    322\u001b[0m     \u001b[39melse\u001b[39;00m:\n",
      "\u001b[1;31mKeyboardInterrupt\u001b[0m: "
     ]
    }
   ],
   "source": [
    "from confluent_kafka.admin import AdminClient, NewTopic\n",
    "\n",
    "def recreate_kafka_topic(topic_name, bootstrap_servers):\n",
    "    # Set up Kafka AdminClient\n",
    "    admin_conf = {\n",
    "        'bootstrap.servers': bootstrap_servers,\n",
    "        'client.id': 'kafka_admin_client'\n",
    "    }\n",
    "    \n",
    "    admin_client = AdminClient(admin_conf)\n",
    "\n",
    "    # Delete the existing topic if it exists\n",
    "    topic_deletion_futures = admin_client.delete_topics([topic_name], operation_timeout=5)\n",
    "    for topic, future in topic_deletion_futures.items():\n",
    "        try:\n",
    "            future.result()\n",
    "            print(f\"Topic '{topic}' deleted successfully.\")\n",
    "        except Exception as e:\n",
    "            print(f\"Failed to delete topic '{topic}': {e}\")\n",
    "\n",
    "    # Recreate the topic with desired configuration\n",
    "    topic_config = {\n",
    "        'cleanup.policy': 'delete',  # Customize other configuration parameters as needed\n",
    "        'retention.ms': '86400000'  # Example: Set retention time to 24 hours\n",
    "    }\n",
    "    \n",
    "    new_topic = NewTopic(topic_name, num_partitions=1, replication_factor=1, config=topic_config)\n",
    "    topic_creation_futures = admin_client.create_topics([new_topic], operation_timeout=5)\n",
    "    for topic, future in topic_creation_futures.items():\n",
    "        try:\n",
    "            future.result()\n",
    "            print(f\"Topic '{topic}' created successfully.\")\n",
    "        except Exception as e:\n",
    "            print(f\"Failed to create topic '{topic}': {e}\")\n",
    "\n",
    "\n",
    "# Example usage\n",
    "topic_name_to_recreate = 'reviews'\n",
    "bootstrap_servers_to_use = 'localhost:9092'  # Replace with your Kafka broker's address\n",
    "recreate_kafka_topic(topic_name_to_recreate, bootstrap_servers_to_use)\n"
   ]
  }
 ],
 "metadata": {
  "kernelspec": {
   "display_name": "Python 3",
   "language": "python",
   "name": "python3"
  },
  "language_info": {
   "codemirror_mode": {
    "name": "ipython",
    "version": 3
   },
   "file_extension": ".py",
   "mimetype": "text/x-python",
   "name": "python",
   "nbconvert_exporter": "python",
   "pygments_lexer": "ipython3",
   "version": "3.10.0"
  }
 },
 "nbformat": 4,
 "nbformat_minor": 2
}
