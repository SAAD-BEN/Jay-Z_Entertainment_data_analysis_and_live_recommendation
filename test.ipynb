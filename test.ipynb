{
 "cells": [
  {
   "cell_type": "code",
   "execution_count": 14,
   "metadata": {},
   "outputs": [],
   "source": [
    "from elasticsearch import Elasticsearch\n",
    "from dotenv import load_dotenv\n",
    "import os\n",
    "\n",
    "load_dotenv()\n",
    "\n",
    "client = Elasticsearch(\n",
    "  os.getenv(\"ELASTIC_URL\"),\n",
    "  api_key=(os.getenv(\"ELASTIC_API_KEY\"))\n",
    ")\n"
   ]
  },
  {
   "cell_type": "code",
   "execution_count": 18,
   "metadata": {},
   "outputs": [
    {
     "name": "stdout",
     "output_type": "stream",
     "text": [
      "{'total': {'value': 0, 'relation': 'eq'}, 'max_score': None, 'hits': []}\n"
     ]
    }
   ],
   "source": [
    "movies = client.search(index=\"search-movies\")\n",
    "\n",
    "print(movies['hits'])"
   ]
  },
  {
   "cell_type": "code",
   "execution_count": 30,
   "metadata": {},
   "outputs": [
    {
     "name": "stderr",
     "output_type": "stream",
     "text": [
      "C:\\Users\\YouCode\\AppData\\Local\\Temp\\ipykernel_14840\\2935660065.py:7: DeprecationWarning: Passing transport options in the API method is deprecated. Use 'Elasticsearch.options()' instead.\n",
      "  client.indices.create(\n"
     ]
    },
    {
     "name": "stdout",
     "output_type": "stream",
     "text": [
      "Created index movies_reviews successfully!\n"
     ]
    }
   ],
   "source": [
    "from elasticsearch import Elasticsearch\n",
    "from typing import Dict\n",
    "\n",
    "def create_index(client: Elasticsearch, index_name: str, mapping: Dict):\n",
    "    try:\n",
    "        # Use Elasticsearch.indices.create method\n",
    "        client.indices.create(\n",
    "            index=index_name,\n",
    "            body=mapping,\n",
    "            ignore=400  # Ignore 400 already exists code\n",
    "        )\n",
    "        print(f\"Created index {index_name} successfully!\")\n",
    "        return True\n",
    "    except Exception as e:\n",
    "        print(f\"Error creating index {index_name}: {str(e)}\")\n",
    "        return False\n",
    "\n",
    "# Example usage:\n",
    "# Assuming you have your Elasticsearch client already created (e.g., 'client')\n",
    "\n",
    "# Define your mapping\n",
    "movie_review_mapping = {\n",
    "    'settings': {\n",
    "        'number_of_shards': 1,\n",
    "        'number_of_replicas': 0\n",
    "    },\n",
    "    'mappings': {\n",
    "        'properties': {\n",
    "            'movie': {\n",
    "                'properties': {\n",
    "                    'genres': {'type': 'keyword'},\n",
    "                    'movieId': {'type': 'keyword'},\n",
    "                    'title': {'type': 'text'},\n",
    "                }\n",
    "            },\n",
    "            'rating': {'type': 'float'},\n",
    "            'timestamp': {'type': 'date'},\n",
    "            'user': {\n",
    "                'properties': {\n",
    "                    'age': {'type': 'integer'},\n",
    "                    'gender': {'type': 'keyword'},\n",
    "                    'occupation': {'type': 'keyword'},\n",
    "                    'userId': {'type': 'keyword'},\n",
    "                }\n",
    "            }\n",
    "        }\n",
    "    }\n",
    "}\n",
    "\n",
    "# Call the function to create the index\n",
    "created_successfully = create_index(client, 'movies_reviews', movie_review_mapping)\n"
   ]
  },
  {
   "cell_type": "code",
   "execution_count": 49,
   "metadata": {},
   "outputs": [
    {
     "name": "stderr",
     "output_type": "stream",
     "text": [
      "C:\\Users\\YouCode\\AppData\\Local\\Temp\\ipykernel_14840\\2935660065.py:7: DeprecationWarning: Passing transport options in the API method is deprecated. Use 'Elasticsearch.options()' instead.\n",
      "  client.indices.create(\n"
     ]
    },
    {
     "name": "stdout",
     "output_type": "stream",
     "text": [
      "Created index movies successfully!\n",
      "Created index reviews successfully!\n",
      "Created index users successfully!\n"
     ]
    }
   ],
   "source": [
    "# Mappings\n",
    "movie_index_mapping = {\n",
    "  \"settings\": {\n",
    "    \"number_of_shards\": 1,\n",
    "    \"number_of_replicas\": 0\n",
    "  },\n",
    "  \"mappings\": {\n",
    "    \"properties\": {\n",
    "      \"movieId\": {\n",
    "        \"type\": \"keyword\"\n",
    "      },\n",
    "      \"genres\": {\n",
    "        \"type\": \"keyword\"\n",
    "      },\n",
    "      \"title\": {\n",
    "        \"type\": \"text\"\n",
    "      }\n",
    "    }\n",
    "  }\n",
    "}\n",
    "\n",
    "review_index_mapping = {\n",
    "  \"settings\": {\n",
    "    \"number_of_shards\": 1,\n",
    "    \"number_of_replicas\": 0\n",
    "  },\n",
    "  \"mappings\": {\n",
    "    \"properties\": {\n",
    "      \"movie\": {\n",
    "        \"properties\": {\n",
    "          \"genres\": {\n",
    "            \"type\": \"keyword\"\n",
    "          },\n",
    "          \"movieId\": {\n",
    "            \"type\": \"keyword\"\n",
    "          },\n",
    "          \"title\": {\n",
    "            \"type\": \"text\"\n",
    "          }\n",
    "        }\n",
    "      },\n",
    "      \"rating\": {\n",
    "        \"type\": \"float\"\n",
    "      },\n",
    "      \"timestamp\": {\n",
    "        \"type\": \"date\"\n",
    "      },\n",
    "      \"user\": {\n",
    "        \"properties\": {\n",
    "          \"age\": {\n",
    "            \"type\": \"integer\"\n",
    "          },\n",
    "          \"gender\": {\n",
    "            \"type\": \"keyword\"\n",
    "          },\n",
    "          \"occupation\": {\n",
    "            \"type\": \"keyword\"\n",
    "          },\n",
    "          \"userId\": {\n",
    "            \"type\": \"keyword\"\n",
    "          }\n",
    "        }\n",
    "      }\n",
    "    }\n",
    "  }\n",
    "}\n",
    "\n",
    "user_index_mapping = {\n",
    "  \"settings\": {\n",
    "    \"number_of_shards\": 1,\n",
    "    \"number_of_replicas\": 0\n",
    "  },\n",
    "  \"mappings\": {\n",
    "    \"properties\": {\n",
    "      \"age\": {\n",
    "        \"type\": \"integer\"\n",
    "      },\n",
    "      \"gender\": {\n",
    "        \"type\": \"keyword\"\n",
    "      },\n",
    "      \"occupation\": {\n",
    "        \"type\": \"keyword\"\n",
    "      },\n",
    "      \"userId\": {\n",
    "        \"type\": \"keyword\"\n",
    "      }\n",
    "    }\n",
    "  }\n",
    "}\n",
    "\n",
    "list_of_mappings = [movie_index_mapping, review_index_mapping, user_index_mapping]\n",
    "indexes_names = [\"movies\", \"reviews\", \"users\"]\n",
    "\n",
    "for i in range(len(list_of_mappings)):\n",
    "    create_index(client, indexes_names[i], list_of_mappings[i])"
   ]
  },
  {
   "cell_type": "code",
   "execution_count": null,
   "metadata": {},
   "outputs": [],
   "source": [
    "nested_review_index_mapping = {\n",
    "  \"settings\": {\n",
    "    \"number_of_shards\": 1,\n",
    "    \"number_of_replicas\": 0\n",
    "  },\n",
    "  \"mappings\": {\n",
    "    \"properties\": {\n",
    "      \"movie\": {\n",
    "        \"properties\": {\n",
    "          \"genres\": {\n",
    "            \"type\": \"keyword\"\n",
    "          },\n",
    "          \"movieId\": {\n",
    "            \"type\": \"keyword\"\n",
    "          },\n",
    "          \"title\": {\n",
    "            \"type\": \"text\"\n",
    "          }\n",
    "        }\n",
    "      },\n",
    "      \"rating\": {\n",
    "        \"type\": \"float\"\n",
    "      },\n",
    "      \"timestamp\": {\n",
    "        \"type\": \"date\"\n",
    "      },\n",
    "      \"user\": {\n",
    "        \"properties\": {\n",
    "          \"age\": {\n",
    "            \"type\": \"integer\"\n",
    "          },\n",
    "          \"gender\": {\n",
    "            \"type\": \"keyword\"\n",
    "          },\n",
    "          \"occupation\": {\n",
    "            \"type\": \"keyword\"\n",
    "          },\n",
    "          \"userId\": {\n",
    "            \"type\": \"keyword\"\n",
    "          }\n",
    "        }\n",
    "      }\n",
    "    }\n",
    "  }\n",
    "}\n",
    "\n",
    "create_index(client, 'nested_movies_reviews', nested_review_index_mapping)\n"
   ]
  },
  {
   "cell_type": "code",
   "execution_count": 2,
   "metadata": {},
   "outputs": [
    {
     "name": "stderr",
     "output_type": "stream",
     "text": [
      "                                                                                \r"
     ]
    },
    {
     "name": "stdout",
     "output_type": "stream",
     "text": [
      "+-------+-----+\n",
      "|   Name|Value|\n",
      "+-------+-----+\n",
      "|  Alice|    1|\n",
      "|    Bob|    2|\n",
      "|Charlie|    3|\n",
      "+-------+-----+\n",
      "\n",
      "Spark is up and running!\n"
     ]
    }
   ],
   "source": [
    "from pyspark.sql import SparkSession\n",
    "\n",
    "def test_spark():\n",
    "    # Create a Spark session\n",
    "    spark = SparkSession.builder.appName(\"SparkTest\").getOrCreate()\n",
    "\n",
    "    try:\n",
    "        # Test Spark by creating a simple DataFrame\n",
    "        data = [(\"Alice\", 1), (\"Bob\", 2), (\"Charlie\", 3)]\n",
    "        columns = [\"Name\", \"Value\"]\n",
    "        df = spark.createDataFrame(data, columns)\n",
    "\n",
    "        # Show the DataFrame\n",
    "        df.show()\n",
    "\n",
    "        print(\"Spark is up and running!\")\n",
    "\n",
    "    except Exception as e:\n",
    "        print(\"Error occurred:\", e)\n",
    "\n",
    "    finally:\n",
    "        # Stop the Spark session\n",
    "        spark.stop()\n",
    "\n",
    "test_spark()"
   ]
  }
 ],
 "metadata": {
  "kernelspec": {
   "display_name": "Python 3",
   "language": "python",
   "name": "python3"
  },
  "language_info": {
   "codemirror_mode": {
    "name": "ipython",
    "version": 3
   },
   "file_extension": ".py",
   "mimetype": "text/x-python",
   "name": "python",
   "nbconvert_exporter": "python",
   "pygments_lexer": "ipython3",
   "version": "3.10.12"
  }
 },
 "nbformat": 4,
 "nbformat_minor": 2
}
